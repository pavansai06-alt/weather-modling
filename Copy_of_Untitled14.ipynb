{
  "nbformat": 4,
  "nbformat_minor": 0,
  "metadata": {
    "colab": {
      "provenance": [],
      "authorship_tag": "ABX9TyN/nM+s+HkXEmUYur/K/Y1P",
      "include_colab_link": true
    },
    "kernelspec": {
      "name": "python3",
      "display_name": "Python 3"
    },
    "language_info": {
      "name": "python"
    }
  },
  "cells": [
    {
      "cell_type": "markdown",
      "metadata": {
        "id": "view-in-github",
        "colab_type": "text"
      },
      "source": [
        "<a href=\"https://colab.research.google.com/github/pavansai06-alt/weather-modling/blob/main/Copy_of_Untitled14.ipynb\" target=\"_parent\"><img src=\"https://colab.research.google.com/assets/colab-badge.svg\" alt=\"Open In Colab\"/></a>"
      ]
    },
    {
      "cell_type": "markdown",
      "source": [
        "WEATHER MODELING IMPLEMENTATION"
      ],
      "metadata": {
        "id": "bGaOISi-6W9d"
      }
    },
    {
      "cell_type": "code",
      "source": [
        "# Hard-coded variables\n",
        "a = 1\n",
        "b = -3\n",
        "c = 2\n",
        "\n",
        "# Calculate the discriminant\n",
        "D = b**2 - 4*a*c\n",
        "\n",
        "# Calculate the roots based on the discriminant\n",
        "if D > 0:\n",
        "    root1 = (-b + D**0.5) / (2*a)\n",
        "    root2 = (-b - D**0.5) / (2*a)\n",
        "    print(f\"Roots are: {root1} and {root2}\")\n",
        "elif D == 0:\n",
        "    root = -b / (2*a)\n",
        "    print(f\"One root: {root}\")\n",
        "else:\n",
        "    print(\"No real roots\")"
      ],
      "metadata": {
        "colab": {
          "base_uri": "https://localhost:8080/"
        },
        "id": "4LKyf9PZ6YgU",
        "outputId": "eae9146d-1360-4c5b-8f5b-98545e4710bb"
      },
      "execution_count": null,
      "outputs": [
        {
          "output_type": "stream",
          "name": "stdout",
          "text": [
            "Roots are: 2.0 and 1.0\n"
          ]
        }
      ]
    },
    {
      "cell_type": "code",
      "source": [
        "# Accepting user input\n",
        "a = float(input(\"Enter coefficient a: \"))\n",
        "b = float(input(\"Enter coefficient b: \"))\n",
        "c = float(input(\"Enter coefficient c: \"))\n",
        "\n",
        "# Calculate the discriminant\n",
        "D = b**2 - 4*a*c\n",
        "\n",
        "# Calculate the roots based on the discriminant\n",
        "if D > 0:\n",
        "    root1 = (-b + D**0.5) / (2*a)\n",
        "    root2 = (-b - D**0.5) / (2*a)\n",
        "    print(f\"Roots are: {root1} and {root2}\")\n",
        "elif D == 0:\n",
        "    root = -b / (2*a)\n",
        "    print(f\"One root: {root}\")\n",
        "else:\n",
        "    print(\"No real roots\")"
      ],
      "metadata": {
        "colab": {
          "base_uri": "https://localhost:8080/"
        },
        "id": "Vq1L0iPM7juR",
        "outputId": "da8b5b0f-ece8-474a-ebe4-a287a0ad0f04"
      },
      "execution_count": null,
      "outputs": [
        {
          "output_type": "stream",
          "name": "stdout",
          "text": [
            "Enter coefficient a: 5\n",
            "Enter coefficient b: 12\n",
            "Enter coefficient c: 7\n",
            "Roots are: -1.0 and -1.4\n"
          ]
        }
      ]
    },
    {
      "cell_type": "code",
      "source": [
        "import math\n",
        "import cmath\n",
        "\n",
        "def solve_quadratic(a, b, c):\n",
        "    # Calculate the discriminant\n",
        "    d = b**2 - 4*a*c\n",
        "\n",
        "    if d < 0:\n",
        "        # Complex roots\n",
        "        root1 = (-b + cmath.sqrt(d)) / (2*a)\n",
        "        root2 = (-b - cmath.sqrt(d)) / (2*a)\n",
        "        return (root1, root2)\n",
        "    elif d == 0:\n",
        "        # One real root\n",
        "        root = -b / (2*a)\n",
        "        return (root,)\n",
        "    else:\n",
        "        # Two real roots\n",
        "        root1 = (-b + math.sqrt(d)) / (2*a)\n",
        "        root2 = (-b - math.sqrt(d)) / (2*a)\n",
        "        return (root1, root2)\n",
        "\n",
        "# Read coefficients from a file\n",
        "with open('coefficients.txt', 'r') as file:\n",
        "    for line in file:\n",
        "        # Strip whitespace and check if the line is not empty\n",
        "        stripped_line = line.strip()\n",
        "        if stripped_line:  # Proceed only if the line is not empty\n",
        "            try:\n",
        "                # Split the line into a, b, c and convert to float\n",
        "                a, b, c = map(float, stripped_line.split())\n",
        "\n",
        "                # Ensure 'a' is not zero to avoid division errors\n",
        "                if a == 0:\n",
        "                    print(f\"For coefficients {a}, {b}, {c}: Not a quadratic equation.\")\n",
        "                    continue\n",
        "\n",
        "                roots = solve_quadratic(a, b, c)\n",
        "\n",
        "                if len(roots) == 1:\n",
        "                    print(f\"For coefficients {a}, {b}, {c}: One solution: {roots[0]}\")\n",
        "                else:\n",
        "                    print(f\"For coefficients {a}, {b}, {c}: Two solutions: {roots[0]} and {roots[1]}\")\n",
        "            except ValueError as e:\n",
        "                print(f\"Error processing line '{line.strip()}': {e}\")\n",
        "\n"
      ],
      "metadata": {
        "colab": {
          "base_uri": "https://localhost:8080/"
        },
        "id": "EyYzpQKP8Ir6",
        "outputId": "0e343d42-98f8-44e6-a566-10f0f1766e37"
      },
      "execution_count": null,
      "outputs": [
        {
          "output_type": "stream",
          "name": "stdout",
          "text": [
            "Error processing line '1,-3,2': could not convert string to float: '1,-3,2'\n",
            "Error processing line '1,-5,6': could not convert string to float: '1,-5,6'\n",
            "Error processing line '1,0,-4': could not convert string to float: '1,0,-4'\n"
          ]
        }
      ]
    },
    {
      "cell_type": "code",
      "source": [
        "# Accepting user input for coefficients of a single quadratic equation\n",
        "a = float(input(\"Enter coefficient a: \"))\n",
        "b = float(input(\"Enter coefficient b: \"))\n",
        "c = float(input(\"Enter coefficient c: \"))\n",
        "\n",
        "# Function to solve the quadratic equation\n",
        "def solve_quadratic(a, b, c):\n",
        "    D = b**2 - 4*a*c  # Calculate the discriminant\n",
        "    if D > 0:\n",
        "        root1 = (-b + D**0.5) / (2*a)\n",
        "        root2 = (-b - D**0.5) / (2*a)\n",
        "        return (root1, root2)\n",
        "    elif D == 0:\n",
        "        root = -b / (2*a)\n",
        "        return (root,)\n",
        "    else:\n",
        "        return None  # No real roots\n",
        "\n",
        "# Solve the quadratic equation\n",
        "roots = solve_quadratic(a, b, c)\n",
        "\n",
        "# Output the results\n",
        "if roots is None:\n",
        "    print(\"No real roots\")\n",
        "elif len(roots) == 1:\n",
        "    print(f\"One root: {roots[0]}\")\n",
        "else:\n",
        "    print(f\"Roots are: {roots[0]} and {roots[1]}\")\n",
        "\n"
      ],
      "metadata": {
        "colab": {
          "base_uri": "https://localhost:8080/"
        },
        "id": "dspuuDPj9kfw",
        "outputId": "e4f6fbc4-bf22-4909-cc28-e98bf8690220"
      },
      "execution_count": null,
      "outputs": [
        {
          "output_type": "stream",
          "name": "stdout",
          "text": [
            "Enter coefficient a: 12\n",
            "Enter coefficient b: 5\n",
            "Enter coefficient c: 20\n",
            "No real roots\n"
          ]
        }
      ]
    },
    {
      "cell_type": "code",
      "source": [
        "# Open the file and read numbers\n",
        "with open(\"numbers.txt\") as file:\n",
        "    numbers = []\n",
        "\n",
        "    # Read and convert each line to float, handling errors\n",
        "    for line in file:\n",
        "        stripped_line = line.strip()  # Remove whitespace and newline characters\n",
        "        if stripped_line:  # Proceed only if the line is not empty\n",
        "            try:\n",
        "                numbers.append(float(stripped_line))  # Convert to float and add to list\n",
        "            except ValueError as e:\n",
        "                print(f\"Could not convert line '{stripped_line}' to float: {e}\")\n",
        "\n",
        "# Initialize counter\n",
        "count = 0\n",
        "\n",
        "# Traverse the number array and count how many times a number is less than the next number\n",
        "for idx, number in enumerate(numbers[:-1]):\n",
        "    if number < numbers[idx + 1]:\n",
        "        count += 1\n",
        "\n",
        "# Print the result\n",
        "print(count)"
      ],
      "metadata": {
        "colab": {
          "base_uri": "https://localhost:8080/"
        },
        "id": "w_LOPzMy-WWw",
        "outputId": "7bfd50d8-852d-43fb-bd06-56f31e43fda6"
      },
      "execution_count": null,
      "outputs": [
        {
          "output_type": "stream",
          "name": "stdout",
          "text": [
            "7\n"
          ]
        }
      ]
    }
  ]
}